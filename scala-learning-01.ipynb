{
 "cells": [
  {
   "cell_type": "markdown",
   "id": "589e6485-99b1-4bd5-a761-46ae26f083de",
   "metadata": {},
   "source": [
    "## Values (immutable)"
   ]
  },
  {
   "cell_type": "code",
   "execution_count": 4,
   "id": "4e7377f9-50ed-4198-abca-3789c8dafe06",
   "metadata": {},
   "outputs": [
    {
     "name": "stdout",
     "output_type": "stream",
     "text": [
      "2\n"
     ]
    },
    {
     "data": {
      "text/plain": [
       "x: Int = 2\n"
      ]
     },
     "execution_count": 4,
     "metadata": {},
     "output_type": "execute_result"
    }
   ],
   "source": [
    "val x = 1 + 1\n",
    "println(x)"
   ]
  },
  {
   "cell_type": "code",
   "execution_count": 5,
   "id": "af8ce709-3438-43dc-ba87-0c3a7fe9566f",
   "metadata": {},
   "outputs": [
    {
     "ename": "<console>",
     "evalue": "26: error: reassignment to val",
     "output_type": "error",
     "traceback": [
      "<console>:26: error: reassignment to val",
      "       x = 3",
      "         ^",
      ""
     ]
    }
   ],
   "source": [
    "x = 3"
   ]
  },
  {
   "cell_type": "markdown",
   "id": "92084d30-9928-4e28-a0d7-a52fbf223bee",
   "metadata": {},
   "source": [
    "## Variables (mutable)"
   ]
  },
  {
   "cell_type": "code",
   "execution_count": 6,
   "id": "2f128532-592c-494e-98e2-e5f1ad63b879",
   "metadata": {},
   "outputs": [
    {
     "name": "stdout",
     "output_type": "stream",
     "text": [
      "4\n"
     ]
    },
    {
     "data": {
      "text/plain": [
       "y: Int = 4\n"
      ]
     },
     "execution_count": 6,
     "metadata": {},
     "output_type": "execute_result"
    }
   ],
   "source": [
    "var y = 2 + 2\n",
    "println(y)"
   ]
  },
  {
   "cell_type": "code",
   "execution_count": 8,
   "id": "f09c61a9-f127-4e0f-ae0b-99677a73831e",
   "metadata": {},
   "outputs": [
    {
     "name": "stdout",
     "output_type": "stream",
     "text": [
      "10\n"
     ]
    },
    {
     "data": {
      "text/plain": [
       "y: Int = 10\n"
      ]
     },
     "execution_count": 8,
     "metadata": {},
     "output_type": "execute_result"
    }
   ],
   "source": [
    "y = 10\n",
    "println(y)"
   ]
  },
  {
   "cell_type": "markdown",
   "id": "ae8aea41-c887-4385-a069-11b3ba6fd035",
   "metadata": {},
   "source": [
    "## Blocks\n",
    "You can combine expressions by surrounding them with {}. We call this a block.\n",
    "\n",
    "The result of the last expression in the block is the result of the overall block, too:"
   ]
  },
  {
   "cell_type": "code",
   "execution_count": 9,
   "id": "286f14db-6113-4bae-a948-85ee9fb60454",
   "metadata": {},
   "outputs": [
    {
     "name": "stdout",
     "output_type": "stream",
     "text": [
      "3\n"
     ]
    }
   ],
   "source": [
    "println({\n",
    "    val x = 1 + 1\n",
    "    x + 1\n",
    "})"
   ]
  },
  {
   "cell_type": "markdown",
   "id": "2c8c9f7e-2099-4d57-85f6-5364a2358102",
   "metadata": {},
   "source": [
    "## Functions\n",
    "Functions are expressions that have parameters, and take arguments.\n",
    "\n",
    "You can define an anonymous function (i.e., a function that has no name) that returns a given integer plus one:"
   ]
  },
  {
   "cell_type": "code",
   "execution_count": 12,
   "id": "93486cfd-d9de-408e-b835-ae4205e54138",
   "metadata": {},
   "outputs": [
    {
     "data": {
      "text/plain": [
       "res10: Int => Int = $Lambda$1989/0x0000000840bfa040@b73879a\n"
      ]
     },
     "execution_count": 12,
     "metadata": {},
     "output_type": "execute_result"
    }
   ],
   "source": [
    "(x: Int) => x + 1"
   ]
  },
  {
   "cell_type": "markdown",
   "id": "f58b78a4-5993-4cef-87c0-c4870bcdbc11",
   "metadata": {},
   "source": [
    "#### Named functions"
   ]
  },
  {
   "cell_type": "code",
   "execution_count": 11,
   "id": "9a1f86a9-e048-4c98-8fe4-be3d26e67462",
   "metadata": {},
   "outputs": [
    {
     "name": "stdout",
     "output_type": "stream",
     "text": [
      "6\n"
     ]
    },
    {
     "data": {
      "text/plain": [
       "addOne: Int => Int = $Lambda$1988/0x0000000840bf9840@7dfdec25\n"
      ]
     },
     "execution_count": 11,
     "metadata": {},
     "output_type": "execute_result"
    }
   ],
   "source": [
    "val addOne = (x: Int) => x + 1\n",
    "println(addOne(5))"
   ]
  },
  {
   "cell_type": "markdown",
   "id": "b78772cd-1366-4d6e-ac35-0df0f78e71f0",
   "metadata": {},
   "source": [
    "#### Multiple parameters"
   ]
  },
  {
   "cell_type": "code",
   "execution_count": 14,
   "id": "a57ce14b-bfbc-4141-9c5c-1fcd537482ae",
   "metadata": {},
   "outputs": [
    {
     "name": "stdout",
     "output_type": "stream",
     "text": [
      "3\n"
     ]
    },
    {
     "data": {
      "text/plain": [
       "add: (Int, Int) => Int = $Lambda$1991/0x0000000840529840@591b4e6a\n"
      ]
     },
     "execution_count": 14,
     "metadata": {},
     "output_type": "execute_result"
    }
   ],
   "source": [
    "val add = (x: Int, y: Int) => x + y\n",
    "println(add(1, 2))"
   ]
  },
  {
   "cell_type": "markdown",
   "id": "1104651d-5b65-4598-8b7e-bf1d5964aff4",
   "metadata": {},
   "source": [
    "#### No parameters"
   ]
  },
  {
   "cell_type": "code",
   "execution_count": 15,
   "id": "0a808f1b-c162-45ac-8ec0-eca1b813bf69",
   "metadata": {},
   "outputs": [
    {
     "name": "stdout",
     "output_type": "stream",
     "text": [
      "42\n"
     ]
    },
    {
     "data": {
      "text/plain": [
       "getTheAnswer: () => Int = $Lambda$1992/0x0000000840a2c440@3ec96e8d\n"
      ]
     },
     "execution_count": 15,
     "metadata": {},
     "output_type": "execute_result"
    }
   ],
   "source": [
    "val getTheAnswer = () => 42\n",
    "println(getTheAnswer())"
   ]
  },
  {
   "cell_type": "markdown",
   "id": "e11a4ee7-43b6-4313-a206-bb529d6dacc9",
   "metadata": {},
   "source": [
    "## Methods\n",
    "Methods look and behave very similar to functions, but there are a few key differences between them.\n",
    "\n",
    "Methods are defined with the def keyword. def is followed by a name, parameter list(s), a return type, and a body:"
   ]
  },
  {
   "cell_type": "code",
   "execution_count": 16,
   "id": "40e4923f-87a1-43c0-a01e-af9b98b361da",
   "metadata": {},
   "outputs": [
    {
     "name": "stdout",
     "output_type": "stream",
     "text": [
      "3\n"
     ]
    },
    {
     "data": {
      "text/plain": [
       "add: (x: Int, y: Int)Int\n"
      ]
     },
     "execution_count": 16,
     "metadata": {},
     "output_type": "execute_result"
    }
   ],
   "source": [
    "def add(x: Int, y: Int): Int = x + y\n",
    "println(add(1, 2))"
   ]
  },
  {
   "cell_type": "markdown",
   "id": "e104a593-8a03-4cb9-b111-58761716b9ee",
   "metadata": {},
   "source": [
    "#### A method can take multiple parameter lists:"
   ]
  },
  {
   "cell_type": "code",
   "execution_count": 18,
   "id": "718ac7d5-c8a3-483b-b3e9-84c33857d721",
   "metadata": {},
   "outputs": [
    {
     "name": "stdout",
     "output_type": "stream",
     "text": [
      "9\n"
     ]
    },
    {
     "data": {
      "text/plain": [
       "addThenMultiply: (x: Int, y: Int)(multiplier: Int)Int\n"
      ]
     },
     "execution_count": 18,
     "metadata": {},
     "output_type": "execute_result"
    }
   ],
   "source": [
    "def addThenMultiply(x: Int, y: Int)(multiplier: Int): Int = (x + y) * multiplier\n",
    "println(addThenMultiply(1, 2)(3))"
   ]
  },
  {
   "cell_type": "markdown",
   "id": "b1165500-cc20-4fb8-9253-45ed09e03cd3",
   "metadata": {},
   "source": [
    "#### Or no parameter lists:"
   ]
  },
  {
   "cell_type": "code",
   "execution_count": 20,
   "id": "9a0f9cd8-cf46-4878-a49d-0f811ffe9014",
   "metadata": {},
   "outputs": [
    {
     "name": "stdout",
     "output_type": "stream",
     "text": [
      "Hello, jovyan!\n"
     ]
    },
    {
     "data": {
      "text/plain": [
       "name: String\n"
      ]
     },
     "execution_count": 20,
     "metadata": {},
     "output_type": "execute_result"
    }
   ],
   "source": [
    "def name: String = System.getProperty(\"user.name\")\n",
    "println(\"Hello, \" + name + \"!\")"
   ]
  },
  {
   "cell_type": "markdown",
   "id": "bfcb4d7c-8de7-4783-b0fe-32521a6a004d",
   "metadata": {},
   "source": [
    "#### Methods can be multi-line:"
   ]
  },
  {
   "cell_type": "code",
   "execution_count": 21,
   "id": "5ba741c8-c4eb-4f29-ac41-45a57810ce40",
   "metadata": {},
   "outputs": [
    {
     "name": "stdout",
     "output_type": "stream",
     "text": [
      "6.25\n"
     ]
    },
    {
     "data": {
      "text/plain": [
       "getSquareString: (input: Double)String\n"
      ]
     },
     "execution_count": 21,
     "metadata": {},
     "output_type": "execute_result"
    }
   ],
   "source": [
    "def getSquareString(input: Double): String = {\n",
    "    val square = input * input\n",
    "    square.toString\n",
    "}\n",
    "println(getSquareString(2.5))"
   ]
  },
  {
   "cell_type": "markdown",
   "id": "ef80c3d9-6d1e-4f17-8514-f0cb12287466",
   "metadata": {},
   "source": [
    "## Classes"
   ]
  },
  {
   "cell_type": "code",
   "execution_count": 22,
   "id": "be0ec9fe-e55b-4d2a-8f94-b81bd6d48c58",
   "metadata": {},
   "outputs": [
    {
     "data": {
      "text/plain": [
       "defined class Greeter\n"
      ]
     },
     "execution_count": 22,
     "metadata": {},
     "output_type": "execute_result"
    }
   ],
   "source": [
    "class Greeter(prefix: String, suffix: String) {\n",
    "    def greet(name: String): Unit =\n",
    "        println(prefix + name + suffix)\n",
    "}"
   ]
  },
  {
   "cell_type": "code",
   "execution_count": 24,
   "id": "8100b5aa-6848-4905-8fe3-dc1bc082ca2a",
   "metadata": {},
   "outputs": [
    {
     "name": "stdout",
     "output_type": "stream",
     "text": [
      "Hello, Scala developer!\n"
     ]
    },
    {
     "data": {
      "text/plain": [
       "greeter: Greeter = Greeter@2e0625a0\n"
      ]
     },
     "execution_count": 24,
     "metadata": {},
     "output_type": "execute_result"
    }
   ],
   "source": [
    "var greeter = new Greeter(\"Hello, \", \"!\")\n",
    "greeter.greet(\"Scala developer\")"
   ]
  },
  {
   "cell_type": "markdown",
   "id": "f548fef2-bf37-4184-b907-1e0435c174a2",
   "metadata": {},
   "source": [
    "## Case Classes\n",
    "Scala has a special type of class called a “case” class. By default, instances of case classes are immutable, and they are compared by value (unlike classes, whose instances are compared by reference). This makes them additionally useful for pattern matching.\n",
    "\n",
    "You can define case classes with the case class keywords:"
   ]
  },
  {
   "cell_type": "code",
   "execution_count": 25,
   "id": "39bc25a0-d7f5-4467-8c3f-8920ada5f82c",
   "metadata": {},
   "outputs": [
    {
     "data": {
      "text/plain": [
       "defined class Point\n"
      ]
     },
     "execution_count": 25,
     "metadata": {},
     "output_type": "execute_result"
    }
   ],
   "source": [
    "case class Point(x: Int, y: Int)"
   ]
  },
  {
   "cell_type": "markdown",
   "id": "1c33e7ee-10d8-4d51-b100-830acdbbb2ba",
   "metadata": {},
   "source": [
    "#### Case classes can be instantiated without the \"new\" keyword:"
   ]
  },
  {
   "cell_type": "code",
   "execution_count": 28,
   "id": "de786a36-6fd7-4ed7-8956-3c5fc5454024",
   "metadata": {},
   "outputs": [
    {
     "data": {
      "text/plain": [
       "point: Point = Point(1,2)\n",
       "anotherPoint: Point = Point(1,2)\n",
       "yetAnotherPoint: Point = Point(2,2)\n"
      ]
     },
     "execution_count": 28,
     "metadata": {},
     "output_type": "execute_result"
    }
   ],
   "source": [
    "val point = Point(1, 2)\n",
    "val anotherPoint = Point(1, 2)\n",
    "val yetAnotherPoint = Point(2, 2)"
   ]
  },
  {
   "cell_type": "code",
   "execution_count": 29,
   "id": "2523f1cb-c831-4857-86c2-bae2f1b6a9a5",
   "metadata": {},
   "outputs": [
    {
     "name": "stdout",
     "output_type": "stream",
     "text": [
      "Point(1,2) and Point(1,2) are the same.\n",
      "Point(1,2) and Point(2,2) are different.\n"
     ]
    }
   ],
   "source": [
    "if (point == anotherPoint) {\n",
    "  println(point + \" and \" + anotherPoint + \" are the same.\")\n",
    "} else {\n",
    "  println(point + \" and \" + anotherPoint + \" are different.\")\n",
    "}\n",
    "\n",
    "if (point == yetAnotherPoint) {\n",
    "  println(point + \" and \" + yetAnotherPoint + \" are the same.\")\n",
    "} else {\n",
    "  println(point + \" and \" + yetAnotherPoint + \" are different.\")\n",
    "}"
   ]
  },
  {
   "cell_type": "markdown",
   "id": "a7b5928f-2b78-4da8-9c04-d7c4e4acef56",
   "metadata": {},
   "source": [
    "## Objects\n",
    "Objects are single instances of their own definitions. You can think of them as singletons of their own classes.\n",
    "\n",
    "You can define objects with the object keyword:"
   ]
  },
  {
   "cell_type": "code",
   "execution_count": 30,
   "id": "e9daf37f-7a6e-408f-be4c-a00014a26bee",
   "metadata": {},
   "outputs": [
    {
     "data": {
      "text/plain": [
       "defined object IdFactory\n"
      ]
     },
     "execution_count": 30,
     "metadata": {},
     "output_type": "execute_result"
    }
   ],
   "source": [
    "object IdFactory {\n",
    "  private var counter = 0\n",
    "  def create(): Int = {\n",
    "    counter += 1\n",
    "    counter\n",
    "  }\n",
    "}"
   ]
  },
  {
   "cell_type": "code",
   "execution_count": 38,
   "id": "a655439e-60a8-4a28-b7a5-66575c3f9b5a",
   "metadata": {},
   "outputs": [
    {
     "name": "stdout",
     "output_type": "stream",
     "text": [
      "5\n",
      "6\n"
     ]
    },
    {
     "data": {
      "text/plain": [
       "newId: Int = 5\n",
       "newerId: Int = 6\n"
      ]
     },
     "execution_count": 38,
     "metadata": {},
     "output_type": "execute_result"
    }
   ],
   "source": [
    "val newId: Int = IdFactory.create()\n",
    "println(newId) // 1\n",
    "val newerId: Int = IdFactory.create()\n",
    "println(newerId) // 2"
   ]
  },
  {
   "cell_type": "markdown",
   "id": "5c68a62e-fea3-4ecd-87a3-0673872f6db2",
   "metadata": {},
   "source": [
    "## Traits\n",
    "Traits are abstract data types containing certain fields and methods. In Scala inheritance, a class can only extend one other class, but it can extend multiple traits.\n",
    "\n",
    "You can define traits with the trait keyword:"
   ]
  },
  {
   "cell_type": "code",
   "execution_count": 39,
   "id": "cf8b9abf-baba-4131-83ad-cda25213c142",
   "metadata": {},
   "outputs": [
    {
     "data": {
      "text/plain": [
       "defined trait Greeter\n"
      ]
     },
     "execution_count": 39,
     "metadata": {},
     "output_type": "execute_result"
    }
   ],
   "source": [
    "trait Greeter {\n",
    "    def greet(name: String): Unit\n",
    "}"
   ]
  },
  {
   "cell_type": "markdown",
   "id": "3db1dfe2-0c73-486d-83f8-45e2428a19f4",
   "metadata": {},
   "source": [
    "#### Traits can also have default implementations:"
   ]
  },
  {
   "cell_type": "code",
   "execution_count": 41,
   "id": "98a75ce6-9b7a-408a-9606-9137cf0656bf",
   "metadata": {},
   "outputs": [
    {
     "data": {
      "text/plain": [
       "defined trait Greeter\n"
      ]
     },
     "execution_count": 41,
     "metadata": {},
     "output_type": "execute_result"
    }
   ],
   "source": [
    "trait Greeter {\n",
    "    def greet(name: String): Unit =\n",
    "        println(\"Hello, \" + name + \"!\")\n",
    "}"
   ]
  },
  {
   "cell_type": "markdown",
   "id": "d6c4008e-ee07-4a7a-9b9e-25fcd1c24203",
   "metadata": {},
   "source": [
    "#### You can extend traits with the extends keyword and override an implementation with the override keyword:"
   ]
  },
  {
   "cell_type": "code",
   "execution_count": 49,
   "id": "905504f5-e65b-4a4f-a0cf-e31fcd6c6e34",
   "metadata": {},
   "outputs": [],
   "source": [
    "class DefaultGreeter extends Greeter\n",
    "\n",
    "class CustomizableGreeter(prefix: String, postfix: String) extends Greeter {\n",
    "  override def greet(name: String): Unit = {\n",
    "    println(prefix + name + postfix)\n",
    "  }\n",
    "}\n",
    "\n",
    "val greeter = new DefaultGreeter()\n",
    "greeter.greet(\"Scala developer\") // Hello, Scala developer!\n",
    "\n",
    "val customGreeter = new CustomizableGreeter(\"How are you, \", \"?\")\n",
    "customGreeter.greet(\"Scala developer\") // How are you, Scala developer?"
   ]
  },
  {
   "cell_type": "code",
   "execution_count": 50,
   "id": "086cad84-bc57-480c-b81e-684c9a1d676d",
   "metadata": {},
   "outputs": [
    {
     "ename": "<console>",
     "evalue": "4: error: ';' expected but '<-' found.",
     "output_type": "error",
     "traceback": [
      "<console>:4: error: ';' expected but '<-' found.",
      "       a <- b",
      "         ^",
      ""
     ]
    }
   ],
   "source": []
  }
 ],
 "metadata": {
  "kernelspec": {
   "display_name": "spylon-kernel",
   "language": "scala",
   "name": "spylon-kernel"
  },
  "language_info": {
   "codemirror_mode": "text/x-scala",
   "file_extension": ".scala",
   "help_links": [
    {
     "text": "MetaKernel Magics",
     "url": "https://metakernel.readthedocs.io/en/latest/source/README.html"
    }
   ],
   "mimetype": "text/x-scala",
   "name": "scala",
   "pygments_lexer": "scala",
   "version": "0.4.1"
  }
 },
 "nbformat": 4,
 "nbformat_minor": 5
}

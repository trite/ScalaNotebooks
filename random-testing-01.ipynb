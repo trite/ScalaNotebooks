{
 "cells": [
  {
   "cell_type": "code",
   "execution_count": 2,
   "id": "30295740-2ef0-4491-bf16-d7630a14b1d8",
   "metadata": {},
   "outputs": [
    {
     "ename": "<console>",
     "evalue": "15: error: not found: type Combinable",
     "output_type": "error",
     "traceback": [
      "<console>:15: error: not found: type Combinable",
      "           new Combinable[Foo] {",
      "               ^",
      ""
     ]
    }
   ],
   "source": [
    "case class Foo(i: Int, s: String)\n",
    "\n",
    "implicit val combineFoos =\n",
    "    new Combinable[Foo] {\n",
    "        def combine(x: Foo, y: Foo): Foo =\n",
    "            Foo(x.i + y.i , x.s.concat(y.s))\n",
    "    }"
   ]
  }
 ],
 "metadata": {
  "kernelspec": {
   "display_name": "spylon-kernel",
   "language": "scala",
   "name": "spylon-kernel"
  },
  "language_info": {
   "codemirror_mode": "text/x-scala",
   "file_extension": ".scala",
   "help_links": [
    {
     "text": "MetaKernel Magics",
     "url": "https://metakernel.readthedocs.io/en/latest/source/README.html"
    }
   ],
   "mimetype": "text/x-scala",
   "name": "scala",
   "pygments_lexer": "scala",
   "version": "0.4.1"
  }
 },
 "nbformat": 4,
 "nbformat_minor": 5
}

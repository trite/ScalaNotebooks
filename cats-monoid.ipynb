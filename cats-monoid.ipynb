{
 "cells": [
  {
   "cell_type": "code",
   "execution_count": 1,
   "id": "3fae5088-7505-46ce-a7b5-441e4f8d7fa5",
   "metadata": {},
   "outputs": [
    {
     "data": {
      "text/plain": [
       "Intitializing Scala interpreter ..."
      ]
     },
     "metadata": {},
     "output_type": "display_data"
    },
    {
     "data": {
      "text/plain": [
       "Spark Web UI available at http://c63459c078db:4042\n",
       "SparkContext available as 'sc' (version = 3.1.2, master = local[*], app id = local-1632515844463)\n",
       "SparkSession available as 'spark'\n"
      ]
     },
     "metadata": {},
     "output_type": "display_data"
    },
    {
     "ename": "<console>",
     "evalue": "24: error: object Monoid is not a member of package cats",
     "output_type": "error",
     "traceback": [
      "<console>:24: error: object Monoid is not a member of package cats",
      "       import cats.Monoid",
      "              ^",
      "<console>:25: error: object instances is not a member of package cats",
      "       import cats.instances.all._",
      "                   ^",
      "<console>:26: error: object syntax is not a member of package cats",
      "       import cats.syntax.monoid._",
      "                   ^",
      ""
     ]
    }
   ],
   "source": [
    "import cats.Monoid\n",
    "import cats.instances.all._\n",
    "import cats.syntax.monoid._"
   ]
  },
  {
   "cell_type": "code",
   "execution_count": null,
   "id": "a7e1bf51-f20b-4c51-8b18-4affe9d8f444",
   "metadata": {},
   "outputs": [],
   "source": []
  }
 ],
 "metadata": {
  "kernelspec": {
   "display_name": "spylon-kernel",
   "language": "scala",
   "name": "spylon-kernel"
  },
  "language_info": {
   "codemirror_mode": "text/x-scala",
   "file_extension": ".scala",
   "help_links": [
    {
     "text": "MetaKernel Magics",
     "url": "https://metakernel.readthedocs.io/en/latest/source/README.html"
    }
   ],
   "mimetype": "text/x-scala",
   "name": "scala",
   "pygments_lexer": "scala",
   "version": "0.4.1"
  }
 },
 "nbformat": 4,
 "nbformat_minor": 5
}

{
 "cells": [
  {
   "cell_type": "markdown",
   "id": "00dda34b-9911-4b0e-a8e2-bdffb58e0f9e",
   "metadata": {},
   "source": [
    "# 28. Functions can have multiple parameter groups\n",
    "Looks like this is the means of controlling partial application:"
   ]
  },
  {
   "cell_type": "code",
   "execution_count": 3,
   "id": "a7b2991e-3723-4ab9-aca2-184d4e0291cf",
   "metadata": {},
   "outputs": [
    {
     "data": {
      "text/plain": [
       "add: (a: Int, b: Int, c: Int)Int\n",
       "res2: Int = 39\n"
      ]
     },
     "execution_count": 3,
     "metadata": {},
     "output_type": "execute_result"
    }
   ],
   "source": [
    "def add(a: Int, b: Int, c: Int) = a + b + c\n",
    "\n",
    "add(5, 7, 27)"
   ]
  },
  {
   "cell_type": "code",
   "execution_count": 4,
   "id": "737b129a-2f72-4af5-8908-0020f2e05afd",
   "metadata": {},
   "outputs": [
    {
     "data": {
      "text/plain": [
       "sum: (a: Int)(b: Int)(c: Int)Int\n",
       "res3: Int = 39\n"
      ]
     },
     "execution_count": 4,
     "metadata": {},
     "output_type": "execute_result"
    }
   ],
   "source": [
    "def sum(a: Int)(b: Int)(c: Int) = a + b + c\n",
    "\n",
    "sum(5)(7)(27)"
   ]
  },
  {
   "cell_type": "markdown",
   "id": "834b9dad-7141-4f44-b667-62a4083209bc",
   "metadata": {},
   "source": [
    "## How to write your own control structures"
   ]
  },
  {
   "cell_type": "code",
   "execution_count": 5,
   "id": "bbe2024b-0d5c-4858-9516-84caca978f42",
   "metadata": {},
   "outputs": [
    {
     "data": {
      "text/plain": [
       "whilst: (testCondition: => Boolean)(codeBlock: => Unit)Unit\n"
      ]
     },
     "execution_count": 5,
     "metadata": {},
     "output_type": "execute_result"
    }
   ],
   "source": [
    "def whilst(testCondition: => Boolean)(codeBlock: => Unit): Unit = {\n",
    "    while (testCondition) {\n",
    "        codeBlock\n",
    "    }\n",
    "}"
   ]
  },
  {
   "cell_type": "code",
   "execution_count": 6,
   "id": "73cf2a60-0fe0-44ab-9005-460e45e88d7e",
   "metadata": {},
   "outputs": [
    {
     "name": "stdout",
     "output_type": "stream",
     "text": [
      "0\n",
      "1\n",
      "2\n",
      "3\n",
      "4\n"
     ]
    },
    {
     "data": {
      "text/plain": [
       "i: Int = 5\n"
      ]
     },
     "execution_count": 6,
     "metadata": {},
     "output_type": "execute_result"
    }
   ],
   "source": [
    "var i = 0\n",
    "whilst (i < 5) {\n",
    "    println(i)\n",
    "    i += 1\n",
    "}"
   ]
  },
  {
   "cell_type": "markdown",
   "id": "40631b15-1698-47f5-b381-92e7ca8c96d9",
   "metadata": {},
   "source": [
    "## Code blocks and FIP arguments can be interchangeable:"
   ]
  },
  {
   "cell_type": "code",
   "execution_count": 11,
   "id": "2b05b410-8b0e-4b12-af53-f3007c91e4e0",
   "metadata": {},
   "outputs": [
    {
     "name": "stdout",
     "output_type": "stream",
     "text": [
      "Discount!\n",
      "hello\n"
     ]
    },
    {
     "data": {
      "text/plain": [
       "ifBothTrue: (test1: => Boolean)(test2: => Boolean)(codeBlock: => Unit)Unit\n",
       "age: Int = 19\n",
       "numAccidents: Int = 0\n"
      ]
     },
     "execution_count": 11,
     "metadata": {},
     "output_type": "execute_result"
    }
   ],
   "source": [
    "def ifBothTrue(test1: => Boolean)(test2: => Boolean)(codeBlock: => Unit): Unit = {\n",
    "    if (test1 && test2) {\n",
    "        codeBlock\n",
    "    }\n",
    "}\n",
    "\n",
    "val age = 19\n",
    "val numAccidents = 0\n",
    "ifBothTrue(age > 18)(numAccidents == 0) {\n",
    "    println(\"Discount!\")\n",
    "} // code block\n",
    "\n",
    "ifBothTrue(2 > 1)(3 > 2)(println(\"hello\")) // FIP"
   ]
  },
  {
   "cell_type": "markdown",
   "id": "f6293883-1f94-4922-b35e-401750d5f2bb",
   "metadata": {},
   "source": [
    "## Benefit: Using implicit values\n",
    "This feels really wrong for some reason... kind of like a function using a value that wasn't supplied as input at all. That would normally mean side effects, and either way means any code maintenance would need to manually find this connection to understand it, making things harder to reason about when maintaining the code.\n",
    "\n",
    "The author says it can be handy, but not to overuse it. The latter part makes sense at least right now."
   ]
  },
  {
   "cell_type": "code",
   "execution_count": 14,
   "id": "13dcfe3d-0a49-4684-85a7-db77f519778f",
   "metadata": {},
   "outputs": [
    {
     "name": "stdout",
     "output_type": "stream",
     "text": [
      "42\n"
     ]
    },
    {
     "data": {
      "text/plain": [
       "printIntIfTrue: (a: Int)(implicit b: Boolean)Unit\n"
      ]
     },
     "execution_count": 14,
     "metadata": {},
     "output_type": "execute_result"
    }
   ],
   "source": [
    "def printIntIfTrue(a: Int)(implicit b: Boolean) = if (b) println(a)\n",
    "\n",
    "printIntIfTrue(42)(true)"
   ]
  },
  {
   "cell_type": "code",
   "execution_count": 16,
   "id": "0ca6e7f8-1df1-4eb8-a523-74ed5f4b3007",
   "metadata": {},
   "outputs": [
    {
     "name": "stdout",
     "output_type": "stream",
     "text": [
      "27\n"
     ]
    },
    {
     "data": {
      "text/plain": [
       "boo: Boolean = true\n"
      ]
     },
     "execution_count": 16,
     "metadata": {},
     "output_type": "execute_result"
    }
   ],
   "source": [
    "implicit val boo = true\n",
    "printIntIfTrue(27)"
   ]
  },
  {
   "cell_type": "markdown",
   "id": "61da7764-f310-4b63-8264-e1877c4f1647",
   "metadata": {},
   "source": [
    "#### Why use it?\n",
    "The author suggests this can be nice for things like a connection string, where you want to avoid having to pass the same variable repeatedly. Partial application feels like a better approach still for some reason, and if parameter order is the issue then use some adapter functions. Not sure if this is me misunderstanding, the author waiting till later to bring up alternatives, or perhaps the author and I are simply prioritizing importance of code clarity differently?\n",
    "\n",
    "Since Scala seems to provide this feature intentionally and the author mentions some uses for it in the Akka library it'll be good to at least know.\n",
    "#### TODO: Experiment with which approach seems better -- implicit values or partial application and adapter functions\n",
    "At the end of the chapter the author mentions that currying and partial application are indeed next."
   ]
  },
  {
   "cell_type": "markdown",
   "id": "d4a02484-83b8-4732-8507-cfec3edd60db",
   "metadata": {},
   "source": [
    "# 29. Partially-applied functions and currying\n",
    "#### Terminology note -- PAF = partially applied function\n",
    "Use underscore in place of value to tell the compiler:"
   ]
  },
  {
   "cell_type": "code",
   "execution_count": 18,
   "id": "cd7edc5f-78d4-4c76-adb2-dd386b53fc98",
   "metadata": {},
   "outputs": [
    {
     "data": {
      "text/plain": [
       "plus: (a: Int)(b: Int)Int\n",
       "plus2: Int => Int\n",
       "res13: Int = 27\n"
      ]
     },
     "execution_count": 18,
     "metadata": {},
     "output_type": "execute_result"
    }
   ],
   "source": [
    "def plus(a: Int)(b: Int) = a + b\n",
    "def plus2 = plus(2)(_)\n",
    "plus2(25)"
   ]
  },
  {
   "cell_type": "markdown",
   "id": "52ad275d-9c16-421a-aa9a-905855c7d84a",
   "metadata": {},
   "source": [
    "#### Extra parens can be omitted depending on preference:"
   ]
  },
  {
   "cell_type": "code",
   "execution_count": 19,
   "id": "b424ea07-1ce6-4fb8-8b0f-704aff1c3658",
   "metadata": {},
   "outputs": [
    {
     "data": {
      "text/plain": [
       "plus2too: Int => Int\n",
       "res14: Int = 42\n"
      ]
     },
     "execution_count": 19,
     "metadata": {},
     "output_type": "execute_result"
    }
   ],
   "source": [
    "def plus2too = plus(2)_\n",
    "plus2too(40)"
   ]
  },
  {
   "cell_type": "code",
   "execution_count": null,
   "id": "7da400ab-4167-499e-b2aa-32e1b9b9e98d",
   "metadata": {},
   "outputs": [],
   "source": [
    "def wrap(prefix: String)(html: String)(suffix: String) = {\n",
    "    prefix + html + suffix\n",
    "}"
   ]
  }
 ],
 "metadata": {
  "kernelspec": {
   "display_name": "spylon-kernel",
   "language": "scala",
   "name": "spylon-kernel"
  },
  "language_info": {
   "codemirror_mode": "text/x-scala",
   "file_extension": ".scala",
   "help_links": [
    {
     "text": "MetaKernel Magics",
     "url": "https://metakernel.readthedocs.io/en/latest/source/README.html"
    }
   ],
   "mimetype": "text/x-scala",
   "name": "scala",
   "pygments_lexer": "scala",
   "version": "0.4.1"
  }
 },
 "nbformat": 4,
 "nbformat_minor": 5
}

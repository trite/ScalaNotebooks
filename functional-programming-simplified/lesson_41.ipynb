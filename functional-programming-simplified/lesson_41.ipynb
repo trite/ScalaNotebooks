{
 "cells": [
  {
   "cell_type": "markdown",
   "id": "c51eb082-2d51-4fc9-b465-d0330a7254e6",
   "metadata": {},
   "source": [
    "# 41-42. A functional game with a bit of state\n",
    "Cloned the author's source code for the game into /_non-notebook/FPCoinFlipGame and tinkered from there"
   ]
  },
  {
   "cell_type": "markdown",
   "id": "c584c87a-e728-41be-98ce-b85adccc65f1",
   "metadata": {},
   "source": [
    "# 43. A quick review of case classes\n",
    "This seems a lot like records, but with a few differences\n",
    "### No need for new:"
   ]
  },
  {
   "cell_type": "code",
   "execution_count": 3,
   "id": "6b8067be-4686-4679-bfd9-35570fe0b4fe",
   "metadata": {},
   "outputs": [
    {
     "data": {
      "text/plain": [
       "defined class Person\n",
       "christina: Person = Person(Christina,sister)\n"
      ]
     },
     "execution_count": 3,
     "metadata": {},
     "output_type": "execute_result"
    }
   ],
   "source": [
    "case class Person(name: String, relation: String)\n",
    "val christina = Person(\"Christina\", \"sister\")"
   ]
  },
  {
   "cell_type": "markdown",
   "id": "6df80519-a374-46ae-b077-00748060dd16",
   "metadata": {},
   "source": [
    "### No mutator methods:"
   ]
  },
  {
   "cell_type": "code",
   "execution_count": 4,
   "id": "d68525e5-d26d-439d-ab12-35986419bede",
   "metadata": {},
   "outputs": [
    {
     "data": {
      "text/plain": [
       "res0: String = Christina\n"
      ]
     },
     "execution_count": 4,
     "metadata": {},
     "output_type": "execute_result"
    }
   ],
   "source": [
    "christina.name"
   ]
  },
  {
   "cell_type": "code",
   "execution_count": 5,
   "id": "6a7b7777-6450-4674-8700-16413855fde5",
   "metadata": {},
   "outputs": [
    {
     "ename": "<console>",
     "evalue": "26: error: reassignment to val",
     "output_type": "error",
     "traceback": [
      "<console>:26: error: reassignment to val",
      "       christina.name = \"Fred\"",
      "                      ^",
      ""
     ]
    }
   ],
   "source": [
    "christina.name = \"Fred\""
   ]
  },
  {
   "cell_type": "markdown",
   "id": "00afb2f0-d0c5-476d-a083-e1c3764be124",
   "metadata": {},
   "source": [
    "### Unapply method\n",
    "Need to read up more on unapply, but guessing it has to do with arguments being passed back when providing the expression to run when a pattern is matched possibly?"
   ]
  },
  {
   "cell_type": "code",
   "execution_count": 6,
   "id": "820ca12d-c463-4900-b94d-0df6852b7b4f",
   "metadata": {},
   "outputs": [
    {
     "name": "stdout",
     "output_type": "stream",
     "text": [
      "(Christina,sister)\n"
     ]
    }
   ],
   "source": [
    "christina match { case Person(n, r) => println(n, r) }"
   ]
  },
  {
   "cell_type": "markdown",
   "id": "26a508e6-da44-4b18-a62d-821b4b5e45fa",
   "metadata": {},
   "source": [
    "## Sounds like it would be good to read this:\n",
    "https://danielwestheide.com/blog/the-neophytes-guide-to-scala-part-1-extractors/"
   ]
  },
  {
   "cell_type": "markdown",
   "id": "457a84c1-4148-4765-9ac9-592628f8385e",
   "metadata": {},
   "source": [
    "# 44. Update as you copy, don't mutate"
   ]
  },
  {
   "cell_type": "code",
   "execution_count": 8,
   "id": "fe052957-2004-4f0d-ab9b-37698f370882",
   "metadata": {},
   "outputs": [
    {
     "data": {
      "text/plain": [
       "defined class Person\n",
       "emily1: Person = Person(Emily,Means,25)\n",
       "emily2: Person = Person(Emily,Walls,26)\n"
      ]
     },
     "execution_count": 8,
     "metadata": {},
     "output_type": "execute_result"
    }
   ],
   "source": [
    "case class Person (\n",
    "    firstName: String,\n",
    "    lastName: String,\n",
    "    age: Int\n",
    ")\n",
    "\n",
    "val emily1 = Person(\"Emily\", \"Means\", 25)\n",
    "val emily2 = emily1.copy(lastName = \"Walls\", age = 26)"
   ]
  },
  {
   "cell_type": "code",
   "execution_count": null,
   "id": "709b5a5e-fb48-401e-a17c-e1d5e5abfdf4",
   "metadata": {},
   "outputs": [],
   "source": []
  }
 ],
 "metadata": {
  "kernelspec": {
   "display_name": "spylon-kernel",
   "language": "scala",
   "name": "spylon-kernel"
  },
  "language_info": {
   "codemirror_mode": "text/x-scala",
   "file_extension": ".scala",
   "help_links": [
    {
     "text": "MetaKernel Magics",
     "url": "https://metakernel.readthedocs.io/en/latest/source/README.html"
    }
   ],
   "mimetype": "text/x-scala",
   "name": "scala",
   "pygments_lexer": "scala",
   "version": "0.4.1"
  }
 },
 "nbformat": 4,
 "nbformat_minor": 5
}

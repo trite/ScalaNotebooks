{
 "cells": [
  {
   "cell_type": "markdown",
   "id": "894d8249-f7da-43bd-8691-cc47627d2c24",
   "metadata": {},
   "source": [
    "## Comparing imperative and declarative versions of the same functionality\n",
    "#### Imperative version:"
   ]
  },
  {
   "cell_type": "code",
   "execution_count": 8,
   "id": "62789ad1-ff04-412e-bf72-07b089534fc3",
   "metadata": {},
   "outputs": [
    {
     "data": {
      "text/plain": [
       "sum: (ints: List[Int])Int\n",
       "res4: Int = 15\n"
      ]
     },
     "execution_count": 8,
     "metadata": {},
     "output_type": "execute_result"
    }
   ],
   "source": [
    "def sum(ints: List[Int]): Int = {\n",
    "    var sum = 0\n",
    "    for (i <- ints) {\n",
    "        sum += i\n",
    "    }\n",
    "    sum\n",
    "}\n",
    "\n",
    "sum(List(1, 2, 3, 4, 5))"
   ]
  },
  {
   "cell_type": "markdown",
   "id": "af6d25b1-f323-4f9a-b60f-7d5195317a33",
   "metadata": {},
   "source": [
    "#### Declarative version:"
   ]
  },
  {
   "cell_type": "code",
   "execution_count": 7,
   "id": "edeecf74-4d62-4402-8a80-5b43086cf703",
   "metadata": {},
   "outputs": [
    {
     "data": {
      "text/plain": [
       "sum: (xs: List[Int])Int\n",
       "res3: Int = 15\n"
      ]
     },
     "execution_count": 7,
     "metadata": {},
     "output_type": "execute_result"
    }
   ],
   "source": [
    "def sum(xs: List[Int]): Int = xs match {\n",
    "    case Nil => 0\n",
    "    case x :: tail => x + sum(tail)\n",
    "}\n",
    "\n",
    "sum(List(1, 2, 3, 4, 5))"
   ]
  },
  {
   "cell_type": "markdown",
   "id": "c8351893-f571-41a6-b089-061ecc93d60b",
   "metadata": {},
   "source": [
    "## ??? keyword (teaching and placeholding purposes)\n",
    "Allows you to defer definition of something during compile time, but if you attempt to use it at runtime it will error:"
   ]
  },
  {
   "cell_type": "code",
   "execution_count": 12,
   "id": "4d8890fe-8183-440e-bc31-777534e43b7c",
   "metadata": {},
   "outputs": [
    {
     "ename": "scala.NotImplementedError",
     "evalue": " an implementation is missing",
     "output_type": "error",
     "traceback": [
      "scala.NotImplementedError: an implementation is missing",
      "  at scala.Predef$.$qmark$qmark$qmark(Predef.scala:288)",
      "  at createWorldPeace(<console>:24)",
      "  ... 37 elided",
      ""
     ]
    }
   ],
   "source": [
    "def createWorldPeace = ???\n",
    "createWorldPeace"
   ]
  },
  {
   "cell_type": "markdown",
   "id": "9901a4e1-cb4e-434f-8f11-49a098c03b43",
   "metadata": {},
   "source": [
    "## for vs map"
   ]
  },
  {
   "cell_type": "code",
   "execution_count": 15,
   "id": "35c0917b-e63e-45f4-8121-120be32f8fd8",
   "metadata": {},
   "outputs": [
    {
     "data": {
      "text/plain": [
       "names: List[String] = List(chris, ed, maurice)\n",
       "capNames: List[String] = List(Chris, Ed, Maurice)\n",
       "capNames2: List[String] = List(Chris, Ed, Maurice)\n"
      ]
     },
     "execution_count": 15,
     "metadata": {},
     "output_type": "execute_result"
    }
   ],
   "source": [
    "val names = List(\"chris\", \"ed\", \"maurice\")\n",
    "\n",
    "val capNames = for (e <- names) yield e.capitalize\n",
    "\n",
    "val capNames2 = names.map(_.capitalize)"
   ]
  },
  {
   "cell_type": "markdown",
   "id": "d3a3dc4b-8fb6-409d-a43a-70855a4f5629",
   "metadata": {},
   "source": [
    "## Update as you copy in FP"
   ]
  },
  {
   "cell_type": "code",
   "execution_count": 16,
   "id": "b1f38f92-39a2-4078-8d03-e2391460e4c5",
   "metadata": {},
   "outputs": [
    {
     "data": {
      "text/plain": [
       "defined class Person\n",
       "emily1: Person = Person(Emily,Means)\n",
       "emily2: Person = Person(Emily,Walls)\n"
      ]
     },
     "execution_count": 16,
     "metadata": {},
     "output_type": "execute_result"
    }
   ],
   "source": [
    "case class Person (firstName: String, lastName: String)\n",
    "\n",
    "val emily1 = Person(\"Emily\", \"Means\")\n",
    "val emily2 = emily1.copy(lastName = \"Walls\")"
   ]
  },
  {
   "cell_type": "markdown",
   "id": "2c21910a-adf4-42b3-a442-556677a76de9",
   "metadata": {},
   "source": [
    "## The general implicit val function syntax"
   ]
  },
  {
   "cell_type": "code",
   "execution_count": 17,
   "id": "77b3827e-34b7-47a7-a63a-c8cb8173cc9d",
   "metadata": {},
   "outputs": [
    {
     "data": {
      "text/plain": [
       "isEven: Int => Boolean = $Lambda$2444/0x0000000840d68040@27bfd76b\n"
      ]
     },
     "execution_count": 17,
     "metadata": {},
     "output_type": "execute_result"
    }
   ],
   "source": [
    "val isEven = (i: Int) => i % 2 == 0"
   ]
  },
  {
   "cell_type": "markdown",
   "id": "ae64d29a-5cd8-4b21-a083-7524021701ae",
   "metadata": {},
   "source": [
    "## Because functions are variables"
   ]
  },
  {
   "cell_type": "code",
   "execution_count": 22,
   "id": "6dd506a4-af2b-41b8-9e9f-be22a9fa093e",
   "metadata": {},
   "outputs": [
    {
     "data": {
      "text/plain": [
       "double: Int => Int = $Lambda$2469/0x0000000840d7f040@342f57bb\n",
       "triple: Int => Int = $Lambda$2470/0x0000000840d7e840@bb10c2b\n",
       "functions: scala.collection.immutable.Map[String,Int => Int] = Map(2x -> $Lambda$2469/0x0000000840d7f040@342f57bb, 3x -> $Lambda$2470/0x0000000840d7e840@bb10c2b)\n",
       "dubfunc: Int => Int = $Lambda$2469/0x0000000840d7f040@342f57bb\n",
       "res7: Int = 4\n"
      ]
     },
     "execution_count": 22,
     "metadata": {},
     "output_type": "execute_result"
    }
   ],
   "source": [
    "val double = (i: Int) => i * 2\n",
    "val triple = (i: Int) => i * 3\n",
    "\n",
    "val functions = Map(\n",
    "    \"2x\" -> double,\n",
    "    \"3x\" -> triple\n",
    ")\n",
    "\n",
    "val dubfunc = functions(\"2x\")\n",
    "dubfunc(2)"
   ]
  },
  {
   "cell_type": "code",
   "execution_count": null,
   "id": "73c2dece-a85b-4e5d-b708-ed8706f52845",
   "metadata": {},
   "outputs": [],
   "source": []
  }
 ],
 "metadata": {
  "kernelspec": {
   "display_name": "spylon-kernel",
   "language": "scala",
   "name": "spylon-kernel"
  },
  "language_info": {
   "codemirror_mode": "text/x-scala",
   "file_extension": ".scala",
   "help_links": [
    {
     "text": "MetaKernel Magics",
     "url": "https://metakernel.readthedocs.io/en/latest/source/README.html"
    }
   ],
   "mimetype": "text/x-scala",
   "name": "scala",
   "pygments_lexer": "scala",
   "version": "0.4.1"
  },
  "toc-autonumbering": false,
  "toc-showcode": false,
  "toc-showmarkdowntxt": false
 },
 "nbformat": 4,
 "nbformat_minor": 5
}

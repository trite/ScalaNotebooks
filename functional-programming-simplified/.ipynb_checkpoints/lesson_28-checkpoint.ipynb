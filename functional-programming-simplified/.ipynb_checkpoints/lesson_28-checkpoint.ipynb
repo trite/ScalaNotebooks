{
 "cells": [
  {
   "cell_type": "markdown",
   "id": "00dda34b-9911-4b0e-a8e2-bdffb58e0f9e",
   "metadata": {},
   "source": [
    "# 28. Functions can have multiple parameter groups\n",
    "Looks like this is the means of controlling partial application:"
   ]
  },
  {
   "cell_type": "code",
   "execution_count": 3,
   "id": "a7b2991e-3723-4ab9-aca2-184d4e0291cf",
   "metadata": {},
   "outputs": [
    {
     "data": {
      "text/plain": [
       "add: (a: Int, b: Int, c: Int)Int\n",
       "res2: Int = 39\n"
      ]
     },
     "execution_count": 3,
     "metadata": {},
     "output_type": "execute_result"
    }
   ],
   "source": [
    "def add(a: Int, b: Int, c: Int) = a + b + c\n",
    "\n",
    "add(5, 7, 27)"
   ]
  },
  {
   "cell_type": "code",
   "execution_count": 4,
   "id": "737b129a-2f72-4af5-8908-0020f2e05afd",
   "metadata": {},
   "outputs": [
    {
     "data": {
      "text/plain": [
       "sum: (a: Int)(b: Int)(c: Int)Int\n",
       "res3: Int = 39\n"
      ]
     },
     "execution_count": 4,
     "metadata": {},
     "output_type": "execute_result"
    }
   ],
   "source": [
    "def sum(a: Int)(b: Int)(c: Int) = a + b + c\n",
    "\n",
    "sum(5)(7)(27)"
   ]
  },
  {
   "cell_type": "markdown",
   "id": "834b9dad-7141-4f44-b667-62a4083209bc",
   "metadata": {},
   "source": [
    "## How to write your own control structures"
   ]
  },
  {
   "cell_type": "code",
   "execution_count": 5,
   "id": "bbe2024b-0d5c-4858-9516-84caca978f42",
   "metadata": {},
   "outputs": [
    {
     "data": {
      "text/plain": [
       "whilst: (testCondition: => Boolean)(codeBlock: => Unit)Unit\n"
      ]
     },
     "execution_count": 5,
     "metadata": {},
     "output_type": "execute_result"
    }
   ],
   "source": [
    "def whilst(testCondition: => Boolean)(codeBlock: => Unit): Unit = {\n",
    "    while (testCondition) {\n",
    "        codeBlock\n",
    "    }\n",
    "}"
   ]
  },
  {
   "cell_type": "code",
   "execution_count": 6,
   "id": "73cf2a60-0fe0-44ab-9005-460e45e88d7e",
   "metadata": {},
   "outputs": [
    {
     "name": "stdout",
     "output_type": "stream",
     "text": [
      "0\n",
      "1\n",
      "2\n",
      "3\n",
      "4\n"
     ]
    },
    {
     "data": {
      "text/plain": [
       "i: Int = 5\n"
      ]
     },
     "execution_count": 6,
     "metadata": {},
     "output_type": "execute_result"
    }
   ],
   "source": [
    "var i = 0\n",
    "whilst (i < 5) {\n",
    "    println(i)\n",
    "    i += 1\n",
    "}"
   ]
  },
  {
   "cell_type": "markdown",
   "id": "40631b15-1698-47f5-b381-92e7ca8c96d9",
   "metadata": {},
   "source": [
    "## Code blocks and FIP arguments can be interchangeable:"
   ]
  },
  {
   "cell_type": "code",
   "execution_count": 11,
   "id": "2b05b410-8b0e-4b12-af53-f3007c91e4e0",
   "metadata": {},
   "outputs": [
    {
     "name": "stdout",
     "output_type": "stream",
     "text": [
      "Discount!\n",
      "hello\n"
     ]
    },
    {
     "data": {
      "text/plain": [
       "ifBothTrue: (test1: => Boolean)(test2: => Boolean)(codeBlock: => Unit)Unit\n",
       "age: Int = 19\n",
       "numAccidents: Int = 0\n"
      ]
     },
     "execution_count": 11,
     "metadata": {},
     "output_type": "execute_result"
    }
   ],
   "source": [
    "def ifBothTrue(test1: => Boolean)(test2: => Boolean)(codeBlock: => Unit): Unit = {\n",
    "    if (test1 && test2) {\n",
    "        codeBlock\n",
    "    }\n",
    "}\n",
    "\n",
    "val age = 19\n",
    "val numAccidents = 0\n",
    "ifBothTrue(age > 18)(numAccidents == 0) {\n",
    "    println(\"Discount!\")\n",
    "} // code block\n",
    "\n",
    "ifBothTrue(2 > 1)(3 > 2)(println(\"hello\")) // FIP"
   ]
  },
  {
   "cell_type": "markdown",
   "id": "f6293883-1f94-4922-b35e-401750d5f2bb",
   "metadata": {},
   "source": []
  }
 ],
 "metadata": {
  "kernelspec": {
   "display_name": "spylon-kernel",
   "language": "scala",
   "name": "spylon-kernel"
  },
  "language_info": {
   "codemirror_mode": "text/x-scala",
   "file_extension": ".scala",
   "help_links": [
    {
     "text": "MetaKernel Magics",
     "url": "https://metakernel.readthedocs.io/en/latest/source/README.html"
    }
   ],
   "mimetype": "text/x-scala",
   "name": "scala",
   "pygments_lexer": "scala",
   "version": "0.4.1"
  }
 },
 "nbformat": 4,
 "nbformat_minor": 5
}

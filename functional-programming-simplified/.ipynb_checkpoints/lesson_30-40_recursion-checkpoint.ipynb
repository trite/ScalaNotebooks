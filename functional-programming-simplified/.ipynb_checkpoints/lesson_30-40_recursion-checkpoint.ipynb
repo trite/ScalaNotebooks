{
 "cells": [
  {
   "cell_type": "markdown",
   "id": "bc05a06c-45ec-4ecd-b72b-82f9c35c0fa9",
   "metadata": {},
   "source": [
    "# 30. Recursion: introduction\n",
    "Author made a big point of this, and it does make sense to focus on it. An empty list is a list with 1 item in it, a null/none/nothing:\n",
    "\n",
    "## List() == Nil"
   ]
  },
  {
   "cell_type": "code",
   "execution_count": 3,
   "id": "b3c87263-013f-482d-af87-2019ebc0555b",
   "metadata": {},
   "outputs": [
    {
     "data": {
      "text/plain": [
       "empty1: List[Int] = List()\n",
       "empty2: List[Int] = List()\n",
       "res1: Boolean = true\n"
      ]
     },
     "execution_count": 3,
     "metadata": {},
     "output_type": "execute_result"
    }
   ],
   "source": [
    "val empty1: List[Int] = List()\n",
    "val empty2: List[Int] = Nil\n",
    "empty1 == empty2"
   ]
  },
  {
   "cell_type": "markdown",
   "id": "ed458cef-623e-4cc2-b716-802f7f26b4a0",
   "metadata": {},
   "source": [
    "## 2 approaches to creating lists:"
   ]
  },
  {
   "cell_type": "code",
   "execution_count": 4,
   "id": "9f0249b1-0387-4a70-9f29-37b4f12e4fd2",
   "metadata": {},
   "outputs": [
    {
     "data": {
      "text/plain": [
       "list1: List[Int] = List(1, 2, 3)\n",
       "list2: List[Int] = List(1, 2, 3)\n",
       "res2: Boolean = true\n"
      ]
     },
     "execution_count": 4,
     "metadata": {},
     "output_type": "execute_result"
    }
   ],
   "source": [
    "val list1 = List(1,2,3)\n",
    "val list2 = 1 :: 2 :: 3 :: Nil\n",
    "list1 == list2"
   ]
  },
  {
   "cell_type": "markdown",
   "id": "744c5c20-ddca-4958-8768-cc3eb002ce27",
   "metadata": {},
   "source": [
    "# 33. Recursion: how to write a 'sum' function\n",
    "Think about creating a 'sum' algorithm like this:\n",
    " * If the sum function is given an empty list, it should return 0\n",
    " * Else the result should be equal to the head element plus the sum of the tail elements\n",
    " \n",
    "#### \"The sum of a list of integers is the sum of the head element, plus the sum of the tail elements\""
   ]
  },
  {
   "cell_type": "code",
   "execution_count": 9,
   "id": "e8362c3c-62f5-49ef-bee1-f93db4f7f46a",
   "metadata": {},
   "outputs": [
    {
     "data": {
      "text/plain": [
       "sum: (list: List[Int])Int\n",
       "res6: Int = 210\n"
      ]
     },
     "execution_count": 9,
     "metadata": {},
     "output_type": "execute_result"
    }
   ],
   "source": [
    "def sum(list: List[Int]): Int = list match {\n",
    "    case Nil => 0\n",
    "    case head :: tail => head + sum(tail)\n",
    "}\n",
    "\n",
    "sum(Range(1,21).toList)"
   ]
  },
  {
   "cell_type": "markdown",
   "id": "38045c6f-82d9-4703-82e2-58531d309e58",
   "metadata": {},
   "source": [
    "# 34. Recursion: how recursive function calls work"
   ]
  },
  {
   "cell_type": "code",
   "execution_count": 11,
   "id": "2b483ecb-9ceb-4dd9-ae41-57d294482f03",
   "metadata": {},
   "outputs": [
    {
     "name": "stdout",
     "output_type": "stream",
     "text": [
      "head = 1, tail = List(2, 3, 4)\n"
     ]
    },
    {
     "data": {
      "text/plain": [
       "sumDebug: (list: List[Int])Int\n",
       "res8: Int = 10\n"
      ]
     },
     "execution_count": 11,
     "metadata": {},
     "output_type": "execute_result"
    }
   ],
   "source": [
    "def sumDebug(list: List[Int]): Int = list match {\n",
    "    case Nil => {\n",
    "        println(\"Nil was matched\")\n",
    "        0\n",
    "    }\n",
    "    case head :: tail => {\n",
    "        println(s\"head = $head, tail = $tail\")\n",
    "        head + sum(tail)\n",
    "    }\n",
    "}\n",
    "sumDebug(List(1, 2, 3, 4))"
   ]
  },
  {
   "cell_type": "markdown",
   "id": "8ffa413a-707b-4782-b5f5-bc519f4cfd0f",
   "metadata": {
    "tags": []
   },
   "source": [
    "#### Output from above should be roughly like this, not sure why its being weird:\n",
    "\n",
    "    head = 1, tail = List(2, 3, 4)\n",
    "    head = 2, tail = List(3, 4)\n",
    "    head = 3, tail = List(4)\n",
    "    head = 4, tail = List()\n",
    "    Nil was matched"
   ]
  },
  {
   "cell_type": "markdown",
   "id": "65033155-8fda-41ef-b880-89fb971e4cc4",
   "metadata": {
    "tags": []
   },
   "source": [
    "# 37. Recursion: thinking recursively\n",
    "The general recursive thought process (the \"three steps\")\n",
    "### Step 1: What is the function signature?\n",
    "Make sure you know input/output types for the function first, then sketch it out:\n",
    "\n",
    "    def sum(list: List[int]): Int = ???\n",
    "\n",
    "### Step 2: How will this algorithm end?\n",
    "\"Always have an end condition, and write it as soon as possible\"\n",
    "    \n",
    "    def sum(list: List[Int]): Int = list match {\n",
    "        case Nil => 0\n",
    "        case ???\n",
    "    }\n",
    "\n",
    "### Step 3: what is the algorithm?\n",
    "Now just have to fill out the actual work that is left:\n",
    "\n",
    "    def sum(list: List[Int]): Int = list match {\n",
    "        case Nil => 0\n",
    "        case head :: tail => head + sum(tail)\n",
    "    }"
   ]
  },
  {
   "cell_type": "markdown",
   "id": "3b6ba997-65ae-4c1a-b0f1-73acd8c9e75d",
   "metadata": {},
   "source": [
    "# 40. Tail-recursive algorithms\n",
    "There is an available annotation that will cause a compilation error if the function it is attached to isn't tail recursive.\n",
    "## Example: how to make sum tail-recursive\n",
    "1) Leave the original function signature the same \n",
    "2) Create a second function that works using accumulation\n",
    "3) Modify the second function's algorithm\n",
    "4) Call the new recursive function from the now non-recursive original function:"
   ]
  },
  {
   "cell_type": "code",
   "execution_count": 19,
   "id": "f52b30a1-80a8-430d-b41b-4e161224c98b",
   "metadata": {},
   "outputs": [
    {
     "data": {
      "text/plain": [
       "import scala.annotation.tailrec\n",
       "sum: (list: List[Int])Int\n",
       "res9: Int = 210\n"
      ]
     },
     "execution_count": 19,
     "metadata": {},
     "output_type": "execute_result"
    }
   ],
   "source": [
    "import scala.annotation.tailrec\n",
    "\n",
    "@tailrec\n",
    "private def sumWithAccumulator(list: List[Int], accumulator: Int): Int = list match {\n",
    "    case Nil => accumulator\n",
    "    case x :: xs => sumWithAccumulator(xs, accumulator + x)\n",
    "}\n",
    "\n",
    "def sum(list: List[Int]): Int = sumWithAccumulator(list, 0)\n",
    "\n",
    "sum(Range(1,21).toList)"
   ]
  },
  {
   "cell_type": "markdown",
   "id": "44c74e39-0a38-406d-9452-eb79a18ac318",
   "metadata": {},
   "source": [
    "### Private vs scoped\n",
    "As with C#/F# you can scope a function to live inside another one rather than making it private:"
   ]
  },
  {
   "cell_type": "code",
   "execution_count": null,
   "id": "8c0f3fe6-59c4-4519-aa9d-902b4ca98518",
   "metadata": {},
   "outputs": [],
   "source": [
    "import scala.annotation.tailrec\n",
    "\n",
    "def sum2(list: List[Int]): Int = {\n",
    "    @tailrec\n",
    "    def sumWithAcc(list: List[Int], current: Int): Int = {\n",
    "        list match {\n",
    "            case Nil => current\n",
    "            case x :: xs => sumWithAcc(xs, currentSum + x)\n",
    "        }\n",
    "    }\n",
    "    sumWithAcc(list, 0)\n",
    "}\n",
    "\n",
    "sum2(Range(1,21).toList)   "
   ]
  },
  {
   "cell_type": "code",
   "execution_count": null,
   "id": "59729ad7-bd53-4589-931e-14abe0984ef1",
   "metadata": {},
   "outputs": [],
   "source": []
  }
 ],
 "metadata": {
  "kernelspec": {
   "display_name": "spylon-kernel",
   "language": "scala",
   "name": "spylon-kernel"
  },
  "language_info": {
   "codemirror_mode": "text/x-scala",
   "file_extension": ".scala",
   "help_links": [
    {
     "text": "MetaKernel Magics",
     "url": "https://metakernel.readthedocs.io/en/latest/source/README.html"
    }
   ],
   "mimetype": "text/x-scala",
   "name": "scala",
   "pygments_lexer": "scala",
   "version": "0.4.1"
  }
 },
 "nbformat": 4,
 "nbformat_minor": 5
}

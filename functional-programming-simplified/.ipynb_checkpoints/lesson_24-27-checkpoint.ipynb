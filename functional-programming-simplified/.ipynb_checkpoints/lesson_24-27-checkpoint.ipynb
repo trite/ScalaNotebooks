{
 "cells": [
  {
   "cell_type": "markdown",
   "id": "3f391910-d8cc-478f-b9cb-13fe0536cb5c",
   "metadata": {},
   "source": [
    "# Lesson 24. Using methods as if they were functions"
   ]
  },
  {
   "cell_type": "code",
   "execution_count": 2,
   "id": "10137993-7edf-49d1-b6fd-275211eece43",
   "metadata": {},
   "outputs": [
    {
     "data": {
      "text/plain": [
       "doubleMethod: (i: Int)Int\n",
       "res1: List[Int] = List(2, 4, 6)\n"
      ]
     },
     "execution_count": 2,
     "metadata": {},
     "output_type": "execute_result"
    }
   ],
   "source": [
    "def doubleMethod(i: Int) = i * 2\n",
    "List(1,2,3).map(doubleMethod)"
   ]
  },
  {
   "cell_type": "markdown",
   "id": "e8333a4c-0ab1-4a88-be80-5690b9869497",
   "metadata": {},
   "source": [
    "## How to manually convert a method to a function\n",
    "Attempting to show the value of a method in the REPL will give a handy error message to remember this by:"
   ]
  },
  {
   "cell_type": "code",
   "execution_count": 3,
   "id": "bcbe1385-0c78-4d4d-92db-41366e5f808b",
   "metadata": {},
   "outputs": [
    {
     "data": {
      "text/plain": [
       "triple: (i: Int)Int\n"
      ]
     },
     "execution_count": 3,
     "metadata": {},
     "output_type": "execute_result"
    }
   ],
   "source": [
    "def triple(i: Int) = i * 3"
   ]
  },
  {
   "cell_type": "code",
   "execution_count": 4,
   "id": "aab4913c-26cb-447a-a976-6ec9a01600d9",
   "metadata": {},
   "outputs": [
    {
     "ename": "<console>",
     "evalue": "28: error: missing argument list for method triple",
     "output_type": "error",
     "traceback": [
      "<console>:28: error: missing argument list for method triple",
      "Unapplied methods are only converted to functions when a function type is expected.",
      "You can make this conversion explicit by writing `triple _` or `triple(_)` instead of `triple`.",
      "       triple",
      "       ^",
      ""
     ]
    }
   ],
   "source": [
    "triple"
   ]
  },
  {
   "cell_type": "markdown",
   "id": "23bd7c7b-3003-4627-8deb-3b6a279de520",
   "metadata": {},
   "source": [
    "As the error message says, follow the method with a _ (also assign it to capture the value in this case):"
   ]
  },
  {
   "cell_type": "code",
   "execution_count": 5,
   "id": "ee6ebe41-232d-4e15-a7b0-049aa1a343aa",
   "metadata": {},
   "outputs": [
    {
     "data": {
      "text/plain": [
       "tripleFn: Int => Int = $Lambda$2000/0x0000000840be9040@3c8087c7\n"
      ]
     },
     "execution_count": 5,
     "metadata": {},
     "output_type": "execute_result"
    }
   ],
   "source": [
    "val tripleFn = triple _"
   ]
  },
  {
   "cell_type": "code",
   "execution_count": 6,
   "id": "cfe40117-66f4-4466-b64b-12979803874a",
   "metadata": {},
   "outputs": [
    {
     "data": {
      "text/plain": [
       "res3: Int = 3\n"
      ]
     },
     "execution_count": 6,
     "metadata": {},
     "output_type": "execute_result"
    }
   ],
   "source": [
    "tripleFn(1)"
   ]
  },
  {
   "cell_type": "code",
   "execution_count": 7,
   "id": "5ee94fc4-402b-4d6c-855a-4f70b5aaf1cd",
   "metadata": {},
   "outputs": [
    {
     "data": {
      "text/plain": [
       "x: List[Int] = List(1, 2, 3)\n",
       "res4: List[Int] = List(3, 6, 9)\n"
      ]
     },
     "execution_count": 7,
     "metadata": {},
     "output_type": "execute_result"
    }
   ],
   "source": [
    "val x = List(1,2,3)\n",
    "x.map(tripleFn)"
   ]
  },
  {
   "cell_type": "code",
   "execution_count": 8,
   "id": "634edd44-bb64-47ef-929e-03c74158a618",
   "metadata": {},
   "outputs": [
    {
     "data": {
      "text/plain": [
       "res5: List[Int] = List(3, 6, 9)\n"
      ]
     },
     "execution_count": 8,
     "metadata": {},
     "output_type": "execute_result"
    }
   ],
   "source": [
    "x.map(triple)"
   ]
  },
  {
   "cell_type": "markdown",
   "id": "64defb71-716f-44e7-bf09-b717f683ef9d",
   "metadata": {},
   "source": [
    "## Example where methods will fail unless converted into a function:"
   ]
  },
  {
   "cell_type": "code",
   "execution_count": 9,
   "id": "b6e91cff-0c5d-40b8-8f37-a855af7346b4",
   "metadata": {},
   "outputs": [
    {
     "data": {
      "text/plain": [
       "double: (i: Int)Int\n",
       "triple: (i: Int)Int\n"
      ]
     },
     "execution_count": 9,
     "metadata": {},
     "output_type": "execute_result"
    }
   ],
   "source": [
    "def double(i: Int) = i * 2\n",
    "def triple(i: Int) = i * 3"
   ]
  },
  {
   "cell_type": "code",
   "execution_count": 10,
   "id": "f455bb9f-f231-4884-89f0-44a2dddc820b",
   "metadata": {},
   "outputs": [
    {
     "ename": "<console>",
     "evalue": "28: error: missing argument list for method double",
     "output_type": "error",
     "traceback": [
      "<console>:28: error: missing argument list for method double",
      "Unapplied methods are only converted to functions when a function type is expected.",
      "You can make this conversion explicit by writing `double _` or `double(_)` instead of `double`.",
      "           \"2x\" -> double,",
      "                   ^",
      "<console>:29: error: missing argument list for method triple",
      "Unapplied methods are only converted to functions when a function type is expected.",
      "You can make this conversion explicit by writing `triple _` or `triple(_)` instead of `triple`.",
      "           \"3x\" -> triple)",
      "                   ^",
      ""
     ]
    }
   ],
   "source": [
    "val functions = Map(\n",
    "    \"2x\" -> double,\n",
    "    \"3x\" -> triple)"
   ]
  },
  {
   "cell_type": "markdown",
   "id": "319e6494-4fce-4ba3-9803-9aa7d880dede",
   "metadata": {},
   "source": [
    "Fixed by converting to functions:"
   ]
  },
  {
   "cell_type": "code",
   "execution_count": 11,
   "id": "3cf2588e-cb21-4247-af26-fdad73a41066",
   "metadata": {},
   "outputs": [
    {
     "data": {
      "text/plain": [
       "functions: scala.collection.immutable.Map[String,Int => Int] = Map(2x -> $Lambda$2060/0x0000000840c2d040@2204b302, 3x -> $Lambda$2061/0x0000000840c2e040@537438d6)\n"
      ]
     },
     "execution_count": 11,
     "metadata": {},
     "output_type": "execute_result"
    }
   ],
   "source": [
    "val functions = Map(\n",
    "    \"2x\" -> double _,\n",
    "    \"3x\" -> triple _)"
   ]
  },
  {
   "cell_type": "markdown",
   "id": "c904760f-268e-41fe-b926-dcb79c73302c",
   "metadata": {},
   "source": [
    "Retrieving and "
   ]
  },
  {
   "cell_type": "code",
   "execution_count": 12,
   "id": "1606d37d-218e-459d-b141-32037d2fb046",
   "metadata": {},
   "outputs": [
    {
     "data": {
      "text/plain": [
       "res6: Int = 6\n"
      ]
     },
     "execution_count": 12,
     "metadata": {},
     "output_type": "execute_result"
    }
   ],
   "source": [
    "functions(\"2x\")(3)"
   ]
  },
  {
   "cell_type": "markdown",
   "id": "a31ce523-e46d-4f77-aaa2-6a30c128d06c",
   "metadata": {},
   "source": [
    "# Lesson 25. How to write functions that take functions as input parameters\n",
    "#### Terminology note -- FIP - function input parameter\n",
    "## Introduction\n",
    "Like in C# you are defining the signature of the function you want to accept when dealing with HOFs:"
   ]
  },
  {
   "cell_type": "code",
   "execution_count": 13,
   "id": "9e683c50-2041-41b3-bf6b-56b1779fe363",
   "metadata": {},
   "outputs": [
    {
     "data": {
      "text/plain": [
       "sayHello: (callback: () => Unit)Unit\n"
      ]
     },
     "execution_count": 13,
     "metadata": {},
     "output_type": "execute_result"
    }
   ],
   "source": [
    "def sayHello(callback: () => Unit) {\n",
    "    callback()\n",
    "}"
   ]
  },
  {
   "cell_type": "markdown",
   "id": "71b3acb4-8eaa-4a29-a0c7-d09ac8bf4a96",
   "metadata": {},
   "source": [
    "Since this is a no parameter function with no result its basically looking for a func to run for side effects. As evidenced by the example for using it:"
   ]
  },
  {
   "cell_type": "code",
   "execution_count": 14,
   "id": "828bb671-9e56-4da3-97c6-e399bc401e55",
   "metadata": {},
   "outputs": [
    {
     "name": "stdout",
     "output_type": "stream",
     "text": [
      "Hello, Trite\n"
     ]
    },
    {
     "data": {
      "text/plain": [
       "helloTrite: ()Unit\n"
      ]
     },
     "execution_count": 14,
     "metadata": {},
     "output_type": "execute_result"
    }
   ],
   "source": [
    "def helloTrite(): Unit = { println(\"Hello, Trite\") }\n",
    "\n",
    "sayHello(helloTrite)"
   ]
  },
  {
   "cell_type": "markdown",
   "id": "a1a00491-2a25-4cc7-94ba-7e2c8edeff84",
   "metadata": {},
   "source": [
    "## More parameters, everywhere\n",
    "Decent example for taking a FIP with some non-function values:"
   ]
  },
  {
   "cell_type": "code",
   "execution_count": 15,
   "id": "3014fd6c-09e2-41ae-b175-620c560d94fd",
   "metadata": {},
   "outputs": [
    {
     "name": "stdout",
     "output_type": "stream",
     "text": [
      "14\n",
      "27\n"
     ]
    },
    {
     "data": {
      "text/plain": [
       "executeAndPrint: (f: (Int, Int) => Int, x: Int, y: Int)Unit\n",
       "sum: (x: Int, y: Int)Int\n",
       "multiply: (x: Int, y: Int)Int\n"
      ]
     },
     "execution_count": 15,
     "metadata": {},
     "output_type": "execute_result"
    }
   ],
   "source": [
    "def executeAndPrint(f: (Int, Int) => Int, x: Int, y: Int): Unit =\n",
    "    println(f(x, y))\n",
    "\n",
    "def sum(x: Int, y: Int) = x + y\n",
    "def multiply(x: Int, y: Int) = x * y\n",
    "\n",
    "executeAndPrint(sum, 3, 11)\n",
    "executeAndPrint(multiply, 3, 9)"
   ]
  },
  {
   "cell_type": "markdown",
   "id": "8380aa35-286c-4793-aaa0-0debb0eef80a",
   "metadata": {},
   "source": [
    "## Taking multiple functions as input parameters\n",
    "Define a function that takes:\n",
    " * (Int, Int) => Int ((x2))\n",
    " * Int ((x2))\n",
    " * The Ints will be passed to the two FIPs\n",
    " * Return the results from the functions as a tuple\n",
    "\n",
    "#### Attempt:"
   ]
  },
  {
   "cell_type": "code",
   "execution_count": 16,
   "id": "3ff1bdcc-ee06-401d-8168-7296fa839753",
   "metadata": {},
   "outputs": [
    {
     "data": {
      "text/plain": [
       "myFunc: (f1: (Int, Int) => Int, f2: (Int, Int) => Int, x: Int, y: Int)(Int, Int)\n",
       "sum: (x: Int, y: Int)Int\n",
       "multiply: (x: Int, y: Int)Int\n",
       "res9: (Int, Int) = (36,243)\n"
      ]
     },
     "execution_count": 16,
     "metadata": {},
     "output_type": "execute_result"
    }
   ],
   "source": [
    "def myFunc(f1: (Int, Int) => Int, f2: (Int, Int) => Int, x: Int, y: Int): (Int, Int) =\n",
    "    (f1(x, y), f2(x, y))\n",
    "\n",
    "def sum(x: Int, y: Int) = x + y\n",
    "def multiply(x: Int, y: Int) = x * y\n",
    "\n",
    "myFunc(sum, multiply, 9, 27)"
   ]
  },
  {
   "cell_type": "markdown",
   "id": "b604a7f1-edeb-49b3-b66e-c12386d52785",
   "metadata": {},
   "source": [
    "#### Following along with the book:"
   ]
  },
  {
   "cell_type": "code",
   "execution_count": 17,
   "id": "994e889d-42e0-47e9-a3df-9977602551aa",
   "metadata": {},
   "outputs": [
    {
     "data": {
      "text/plain": [
       "execTwoFunctions: (f1: (Int, Int) => Int, f2: (Int, Int) => Int, a: Int, b: Int)(Int, Int)\n",
       "sum: (x: Int, y: Int)Int\n",
       "multiply: (x: Int, y: Int)Int\n",
       "res10: (Int, Int) = (12,20)\n"
      ]
     },
     "execution_count": 17,
     "metadata": {},
     "output_type": "execute_result"
    }
   ],
   "source": [
    "def execTwoFunctions(f1:(Int, Int) => Int,\n",
    "                     f2:(Int, Int) => Int,\n",
    "                     a: Int,\n",
    "                     b: Int): Tuple2[Int, Int] =\n",
    "    (f1(a,b), f2(a,b))\n",
    "\n",
    "def sum(x: Int, y: Int) = x + y\n",
    "def multiply(x: Int, y: Int) = x * y\n",
    "\n",
    "execTwoFunctions(sum, multiply, 2, 10)"
   ]
  },
  {
   "cell_type": "markdown",
   "id": "189ac8d6-4f06-4f14-b388-008046876dc3",
   "metadata": {},
   "source": [
    "# 26. How to write a 'map' function\n",
    "The author outlines a standardized way to approach writing HOFs\n",
    "#### 1. Accurately state the problem as a sentence\n",
    "\"I want to write a map function that can be used to apply other functions to each element in a List[Int] that it's given.\"\n",
    "#### 2. Sketch the function signature:"
   ]
  },
  {
   "cell_type": "code",
   "execution_count": 18,
   "id": "69750df6-c61c-4b92-9f9b-1aa2fb5cfc71",
   "metadata": {},
   "outputs": [
    {
     "data": {
      "text/plain": [
       "map: [A, B](f: A => B, list: Seq[A])Seq[B]\n",
       "res11: Int = 42\n"
      ]
     },
     "execution_count": 18,
     "metadata": {},
     "output_type": "execute_result"
    }
   ],
   "source": [
    "def map[A,B](f: A => B, list: Seq[A]): Seq[B] = ???\n",
    "42 // returning a value to prevent the cell output vomiting everywhere"
   ]
  },
  {
   "cell_type": "markdown",
   "id": "ee67f30c-83a3-4b4b-bfac-951fb1eb2615",
   "metadata": {},
   "source": [
    "#### 3. Figure out the function body:"
   ]
  },
  {
   "cell_type": "code",
   "execution_count": 19,
   "id": "cd01e604-c4b0-4d41-a1fe-cad10c270a8d",
   "metadata": {},
   "outputs": [
    {
     "data": {
      "text/plain": [
       "map: [A, B](f: A => B, list: Seq[A])Seq[B]\n"
      ]
     },
     "execution_count": 19,
     "metadata": {},
     "output_type": "execute_result"
    }
   ],
   "source": [
    "def map[A,B](f: A => B, list: Seq[A]): Seq[B] = {\n",
    "    for {\n",
    "        x <- list\n",
    "    } yield f(x)\n",
    "}"
   ]
  },
  {
   "cell_type": "markdown",
   "id": "4d9af9ca-555c-4b22-90a3-0ba6a8c9cab8",
   "metadata": {},
   "source": [
    "## Exercise: write a filter function\n"
   ]
  },
  {
   "cell_type": "code",
   "execution_count": 22,
   "id": "f52c3a77-b7fd-4aed-9a7a-80266fd7b3b0",
   "metadata": {},
   "outputs": [
    {
     "data": {
      "text/plain": [
       "filter: [A](f: A => Boolean, list: Seq[A])Seq[A]\n",
       "isEven: (x: Int)Boolean\n",
       "res14: Seq[Int] = Vector(2, 4, 6, 8, 10, 12, 14, 16, 18, 20)\n"
      ]
     },
     "execution_count": 22,
     "metadata": {},
     "output_type": "execute_result"
    }
   ],
   "source": [
    "def filter[A](f: A => Boolean, list: Seq[A]): Seq[A] = {\n",
    "    for {\n",
    "        x <- list if f(x)\n",
    "    } yield x\n",
    "}\n",
    "\n",
    "def isEven(x: Int): Boolean =\n",
    "    x % 2 == 0\n",
    "\n",
    "filter(isEven, Range(1,21))"
   ]
  },
  {
   "cell_type": "code",
   "execution_count": 21,
   "id": "332c6027-f1ea-4f46-b9bd-230ff82f18e9",
   "metadata": {},
   "outputs": [
    {
     "data": {
      "text/plain": [
       "res13: scala.collection.immutable.Range = Range 1 until 20\n"
      ]
     },
     "execution_count": 21,
     "metadata": {},
     "output_type": "execute_result"
    }
   ],
   "source": [
    "Range(1,20)"
   ]
  },
  {
   "cell_type": "markdown",
   "id": "cc42dde4-62e1-4447-bd4a-49ab44efe305",
   "metadata": {},
   "source": [
    "# 27. How to use by-name parameters\n",
    "Sometimes the goal of accepting a function is to pass a larger block of code, which feels like it would be wrong to call that a HOF for some reason. Since there's apparently a special name for that it hopefully means that feeling was correct and a good sign.\n",
    "## This technique can be referred to as either a \"by-name\" or a \"call by-name\" parameter apparently\n",
    "The alternative being a \"by-value\" parameter, which in the case of a function means a lazily evaluated function (I think). The \"by-name\" parameter will apparently be evaluated each time it is used? Re-read this chapter and spots around Loc 2750 (page 251) in the book to clarify this later if needed.\n",
    "## Example: Creating a timer:"
   ]
  },
  {
   "cell_type": "code",
   "execution_count": 24,
   "id": "d01c50bf-4bb5-4099-aa65-b39e92836d36",
   "metadata": {},
   "outputs": [
    {
     "name": "stdout",
     "output_type": "stream",
     "text": [
      "done\n"
     ]
    },
    {
     "data": {
      "text/plain": [
       "timer: [A](blockOfCode: => A)(A, Double)\n",
       "result: Int = 42\n",
       "time: Double = 500.2065\n"
      ]
     },
     "execution_count": 24,
     "metadata": {},
     "output_type": "execute_result"
    }
   ],
   "source": [
    "def timer[A](blockOfCode: => A) = {\n",
    "    val startTime = System.nanoTime\n",
    "    val result = blockOfCode\n",
    "    val stopTime = System.nanoTime\n",
    "    val delta = stopTime - startTime\n",
    "    (result, delta/1000000d)\n",
    "}\n",
    "\n",
    "val (result, time) = timer {\n",
    "    Thread.sleep(500)\n",
    "    println(\"done\")\n",
    "    42\n",
    "}"
   ]
  },
  {
   "cell_type": "code",
   "execution_count": 25,
   "id": "aa2b77f2-e6ff-416e-ae60-0915b6b6919e",
   "metadata": {},
   "outputs": [
    {
     "name": "stdout",
     "output_type": "stream",
     "text": [
      "before 1st codeBlock\n",
      "1632686718787\n",
      "before 2nd codeBlock\n",
      "1632686718797\n",
      "before 3rd codeBlock\n",
      "1632686718808\n"
     ]
    },
    {
     "data": {
      "text/plain": [
       "test: [A](codeBlock: => A)Unit\n"
      ]
     },
     "execution_count": 25,
     "metadata": {},
     "output_type": "execute_result"
    }
   ],
   "source": [
    "def test[A](codeBlock: => A) = {\n",
    "    println(\"before 1st codeBlock\")\n",
    "    val a = codeBlock\n",
    "    println(a)\n",
    "    Thread.sleep(10)\n",
    "    \n",
    "    println(\"before 2nd codeBlock\")\n",
    "    val b = codeBlock\n",
    "    println(b)\n",
    "    Thread.sleep(10)\n",
    "    \n",
    "    println(\"before 3rd codeBlock\")\n",
    "    val c = codeBlock\n",
    "    println(c)\n",
    "}\n",
    "\n",
    "test(System.currentTimeMillis)"
   ]
  },
  {
   "cell_type": "markdown",
   "id": "985c3cde-c92e-44e4-9f8e-aeb9f68c8d95",
   "metadata": {},
   "source": [
    "## Why care? This seems like reason enough...\n",
    "You can provide just the function body instead of needing to also provide the function signature in cases like the one below.\n",
    "#### If starting with a function like this:"
   ]
  },
  {
   "cell_type": "code",
   "execution_count": 27,
   "id": "fb915679-fb45-4a4a-8ca8-84ef16eedf23",
   "metadata": {},
   "outputs": [
    {
     "data": {
      "text/plain": [
       "assertionsEnabled: Boolean = true\n",
       "myAssert: (predicate: () => Boolean)Unit\n"
      ]
     },
     "execution_count": 27,
     "metadata": {},
     "output_type": "execute_result"
    }
   ],
   "source": [
    "val assertionsEnabled = true\n",
    "\n",
    "def myAssert(predicate: () => Boolean) =\n",
    "    if (assertionsEnabled && !predicate())\n",
    "        throw new AssertionError"
   ]
  },
  {
   "cell_type": "markdown",
   "id": "366a398e-3ef1-4c09-8198-288c5c40f815",
   "metadata": {},
   "source": [
    "#### Then you need to use it like this:"
   ]
  },
  {
   "cell_type": "code",
   "execution_count": 30,
   "id": "406910c6-e93f-4cdd-8acd-ed4508a5731e",
   "metadata": {},
   "outputs": [],
   "source": [
    "myAssert(() => 5 > 3)"
   ]
  },
  {
   "cell_type": "markdown",
   "id": "29b8d65f-88af-4aef-8543-af6772d3375f",
   "metadata": {},
   "source": [
    "#### By starting like this instead:"
   ]
  },
  {
   "cell_type": "code",
   "execution_count": 32,
   "id": "d8b3fdfc-fd31-4328-a864-bfc04ef14f55",
   "metadata": {},
   "outputs": [
    {
     "data": {
      "text/plain": [
       "byNameAssert: (predicate: => Boolean)Unit\n"
      ]
     },
     "execution_count": 32,
     "metadata": {},
     "output_type": "execute_result"
    }
   ],
   "source": [
    "def byNameAssert(predicate: => Boolean) =\n",
    "    if (assertionsEnabled && !predicate)\n",
    "        throw new AssertionError"
   ]
  },
  {
   "cell_type": "markdown",
   "id": "ca8337ff-019e-407f-9c2d-c6b36593c11f",
   "metadata": {},
   "source": [
    "#### Then you can use it in a much more natural way. Wish C# would add something similar:"
   ]
  },
  {
   "cell_type": "code",
   "execution_count": 33,
   "id": "15969142-e3ab-4932-98dc-8baf544d63eb",
   "metadata": {},
   "outputs": [],
   "source": [
    "byNameAssert(5 > 3)"
   ]
  },
  {
   "cell_type": "markdown",
   "id": "6b04737f-f3ea-4b66-a284-94c89bb94909",
   "metadata": {},
   "source": []
  }
 ],
 "metadata": {
  "kernelspec": {
   "display_name": "spylon-kernel",
   "language": "scala",
   "name": "spylon-kernel"
  },
  "language_info": {
   "codemirror_mode": "text/x-scala",
   "file_extension": ".scala",
   "help_links": [
    {
     "text": "MetaKernel Magics",
     "url": "https://metakernel.readthedocs.io/en/latest/source/README.html"
    }
   ],
   "mimetype": "text/x-scala",
   "name": "scala",
   "pygments_lexer": "scala",
   "version": "0.4.1"
  },
  "toc-showcode": false,
  "toc-showmarkdowntxt": false
 },
 "nbformat": 4,
 "nbformat_minor": 5
}
